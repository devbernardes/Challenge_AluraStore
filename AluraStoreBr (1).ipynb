{
  "nbformat": 4,
  "nbformat_minor": 0,
  "metadata": {
    "colab": {
      "provenance": []
    },
    "kernelspec": {
      "name": "python3",
      "display_name": "Python 3"
    },
    "language_info": {
      "name": "python"
    }
  },
  "cells": [
    {
      "cell_type": "markdown",
      "source": [
        "### Importação dos dados\n",
        "\n"
      ],
      "metadata": {
        "id": "RhEdWd9YUR6H"
      }
    },
    {
      "cell_type": "code",
      "execution_count": 69,
      "metadata": {
        "colab": {
          "base_uri": "https://localhost:8080/",
          "height": 258
        },
        "id": "T3EvaeQ_INIL",
        "outputId": "f532c723-1280-4665-feb7-8c17d2b9d053"
      },
      "outputs": [
        {
          "output_type": "execute_result",
          "data": {
            "text/plain": [
              "                 Produto Categoria do Produto    Preço      Frete  \\\n",
              "0     Assistente virtual          eletronicos   219.08   9.249790   \n",
              "1         Mesa de jantar               moveis   256.35  11.234305   \n",
              "2      Jogo de tabuleiro           brinquedos   279.51  21.262681   \n",
              "3            Micro-ondas     eletrodomesticos  1009.99  54.667344   \n",
              "4  Cadeira de escritório               moveis   446.99  26.964689   \n",
              "\n",
              "  Data da Compra        Vendedor Local da compra  Avaliação da compra  \\\n",
              "0     16/01/2021     Pedro Gomes              SP                    4   \n",
              "1     18/05/2022  Beatriz Moraes              RJ                    1   \n",
              "2     15/03/2021      João Souza              DF                    1   \n",
              "3     03/05/2022      João Souza              RS                    4   \n",
              "4     07/11/2020   Larissa Alves              MG                    5   \n",
              "\n",
              "  Tipo de pagamento  Quantidade de parcelas    lat    lon  \n",
              "0    cartao_credito                       8 -22.19 -48.79  \n",
              "1    cartao_credito                       4 -22.25 -42.66  \n",
              "2    cartao_credito                       1 -15.83 -47.86  \n",
              "3            boleto                       1 -30.17 -53.50  \n",
              "4            boleto                       1 -18.10 -44.38  "
            ],
            "text/html": [
              "\n",
              "  <div id=\"df-7f439922-97bd-4efc-beb1-9eec34ae1dc3\" class=\"colab-df-container\">\n",
              "    <div>\n",
              "<style scoped>\n",
              "    .dataframe tbody tr th:only-of-type {\n",
              "        vertical-align: middle;\n",
              "    }\n",
              "\n",
              "    .dataframe tbody tr th {\n",
              "        vertical-align: top;\n",
              "    }\n",
              "\n",
              "    .dataframe thead th {\n",
              "        text-align: right;\n",
              "    }\n",
              "</style>\n",
              "<table border=\"1\" class=\"dataframe\">\n",
              "  <thead>\n",
              "    <tr style=\"text-align: right;\">\n",
              "      <th></th>\n",
              "      <th>Produto</th>\n",
              "      <th>Categoria do Produto</th>\n",
              "      <th>Preço</th>\n",
              "      <th>Frete</th>\n",
              "      <th>Data da Compra</th>\n",
              "      <th>Vendedor</th>\n",
              "      <th>Local da compra</th>\n",
              "      <th>Avaliação da compra</th>\n",
              "      <th>Tipo de pagamento</th>\n",
              "      <th>Quantidade de parcelas</th>\n",
              "      <th>lat</th>\n",
              "      <th>lon</th>\n",
              "    </tr>\n",
              "  </thead>\n",
              "  <tbody>\n",
              "    <tr>\n",
              "      <th>0</th>\n",
              "      <td>Assistente virtual</td>\n",
              "      <td>eletronicos</td>\n",
              "      <td>219.08</td>\n",
              "      <td>9.249790</td>\n",
              "      <td>16/01/2021</td>\n",
              "      <td>Pedro Gomes</td>\n",
              "      <td>SP</td>\n",
              "      <td>4</td>\n",
              "      <td>cartao_credito</td>\n",
              "      <td>8</td>\n",
              "      <td>-22.19</td>\n",
              "      <td>-48.79</td>\n",
              "    </tr>\n",
              "    <tr>\n",
              "      <th>1</th>\n",
              "      <td>Mesa de jantar</td>\n",
              "      <td>moveis</td>\n",
              "      <td>256.35</td>\n",
              "      <td>11.234305</td>\n",
              "      <td>18/05/2022</td>\n",
              "      <td>Beatriz Moraes</td>\n",
              "      <td>RJ</td>\n",
              "      <td>1</td>\n",
              "      <td>cartao_credito</td>\n",
              "      <td>4</td>\n",
              "      <td>-22.25</td>\n",
              "      <td>-42.66</td>\n",
              "    </tr>\n",
              "    <tr>\n",
              "      <th>2</th>\n",
              "      <td>Jogo de tabuleiro</td>\n",
              "      <td>brinquedos</td>\n",
              "      <td>279.51</td>\n",
              "      <td>21.262681</td>\n",
              "      <td>15/03/2021</td>\n",
              "      <td>João Souza</td>\n",
              "      <td>DF</td>\n",
              "      <td>1</td>\n",
              "      <td>cartao_credito</td>\n",
              "      <td>1</td>\n",
              "      <td>-15.83</td>\n",
              "      <td>-47.86</td>\n",
              "    </tr>\n",
              "    <tr>\n",
              "      <th>3</th>\n",
              "      <td>Micro-ondas</td>\n",
              "      <td>eletrodomesticos</td>\n",
              "      <td>1009.99</td>\n",
              "      <td>54.667344</td>\n",
              "      <td>03/05/2022</td>\n",
              "      <td>João Souza</td>\n",
              "      <td>RS</td>\n",
              "      <td>4</td>\n",
              "      <td>boleto</td>\n",
              "      <td>1</td>\n",
              "      <td>-30.17</td>\n",
              "      <td>-53.50</td>\n",
              "    </tr>\n",
              "    <tr>\n",
              "      <th>4</th>\n",
              "      <td>Cadeira de escritório</td>\n",
              "      <td>moveis</td>\n",
              "      <td>446.99</td>\n",
              "      <td>26.964689</td>\n",
              "      <td>07/11/2020</td>\n",
              "      <td>Larissa Alves</td>\n",
              "      <td>MG</td>\n",
              "      <td>5</td>\n",
              "      <td>boleto</td>\n",
              "      <td>1</td>\n",
              "      <td>-18.10</td>\n",
              "      <td>-44.38</td>\n",
              "    </tr>\n",
              "  </tbody>\n",
              "</table>\n",
              "</div>\n",
              "    <div class=\"colab-df-buttons\">\n",
              "\n",
              "  <div class=\"colab-df-container\">\n",
              "    <button class=\"colab-df-convert\" onclick=\"convertToInteractive('df-7f439922-97bd-4efc-beb1-9eec34ae1dc3')\"\n",
              "            title=\"Convert this dataframe to an interactive table.\"\n",
              "            style=\"display:none;\">\n",
              "\n",
              "  <svg xmlns=\"http://www.w3.org/2000/svg\" height=\"24px\" viewBox=\"0 -960 960 960\">\n",
              "    <path d=\"M120-120v-720h720v720H120Zm60-500h600v-160H180v160Zm220 220h160v-160H400v160Zm0 220h160v-160H400v160ZM180-400h160v-160H180v160Zm440 0h160v-160H620v160ZM180-180h160v-160H180v160Zm440 0h160v-160H620v160Z\"/>\n",
              "  </svg>\n",
              "    </button>\n",
              "\n",
              "  <style>\n",
              "    .colab-df-container {\n",
              "      display:flex;\n",
              "      gap: 12px;\n",
              "    }\n",
              "\n",
              "    .colab-df-convert {\n",
              "      background-color: #E8F0FE;\n",
              "      border: none;\n",
              "      border-radius: 50%;\n",
              "      cursor: pointer;\n",
              "      display: none;\n",
              "      fill: #1967D2;\n",
              "      height: 32px;\n",
              "      padding: 0 0 0 0;\n",
              "      width: 32px;\n",
              "    }\n",
              "\n",
              "    .colab-df-convert:hover {\n",
              "      background-color: #E2EBFA;\n",
              "      box-shadow: 0px 1px 2px rgba(60, 64, 67, 0.3), 0px 1px 3px 1px rgba(60, 64, 67, 0.15);\n",
              "      fill: #174EA6;\n",
              "    }\n",
              "\n",
              "    .colab-df-buttons div {\n",
              "      margin-bottom: 4px;\n",
              "    }\n",
              "\n",
              "    [theme=dark] .colab-df-convert {\n",
              "      background-color: #3B4455;\n",
              "      fill: #D2E3FC;\n",
              "    }\n",
              "\n",
              "    [theme=dark] .colab-df-convert:hover {\n",
              "      background-color: #434B5C;\n",
              "      box-shadow: 0px 1px 3px 1px rgba(0, 0, 0, 0.15);\n",
              "      filter: drop-shadow(0px 1px 2px rgba(0, 0, 0, 0.3));\n",
              "      fill: #FFFFFF;\n",
              "    }\n",
              "  </style>\n",
              "\n",
              "    <script>\n",
              "      const buttonEl =\n",
              "        document.querySelector('#df-7f439922-97bd-4efc-beb1-9eec34ae1dc3 button.colab-df-convert');\n",
              "      buttonEl.style.display =\n",
              "        google.colab.kernel.accessAllowed ? 'block' : 'none';\n",
              "\n",
              "      async function convertToInteractive(key) {\n",
              "        const element = document.querySelector('#df-7f439922-97bd-4efc-beb1-9eec34ae1dc3');\n",
              "        const dataTable =\n",
              "          await google.colab.kernel.invokeFunction('convertToInteractive',\n",
              "                                                    [key], {});\n",
              "        if (!dataTable) return;\n",
              "\n",
              "        const docLinkHtml = 'Like what you see? Visit the ' +\n",
              "          '<a target=\"_blank\" href=https://colab.research.google.com/notebooks/data_table.ipynb>data table notebook</a>'\n",
              "          + ' to learn more about interactive tables.';\n",
              "        element.innerHTML = '';\n",
              "        dataTable['output_type'] = 'display_data';\n",
              "        await google.colab.output.renderOutput(dataTable, element);\n",
              "        const docLink = document.createElement('div');\n",
              "        docLink.innerHTML = docLinkHtml;\n",
              "        element.appendChild(docLink);\n",
              "      }\n",
              "    </script>\n",
              "  </div>\n",
              "\n",
              "\n",
              "    <div id=\"df-e2fe9064-cf56-4ca7-901d-afd737ea2766\">\n",
              "      <button class=\"colab-df-quickchart\" onclick=\"quickchart('df-e2fe9064-cf56-4ca7-901d-afd737ea2766')\"\n",
              "                title=\"Suggest charts\"\n",
              "                style=\"display:none;\">\n",
              "\n",
              "<svg xmlns=\"http://www.w3.org/2000/svg\" height=\"24px\"viewBox=\"0 0 24 24\"\n",
              "     width=\"24px\">\n",
              "    <g>\n",
              "        <path d=\"M19 3H5c-1.1 0-2 .9-2 2v14c0 1.1.9 2 2 2h14c1.1 0 2-.9 2-2V5c0-1.1-.9-2-2-2zM9 17H7v-7h2v7zm4 0h-2V7h2v10zm4 0h-2v-4h2v4z\"/>\n",
              "    </g>\n",
              "</svg>\n",
              "      </button>\n",
              "\n",
              "<style>\n",
              "  .colab-df-quickchart {\n",
              "      --bg-color: #E8F0FE;\n",
              "      --fill-color: #1967D2;\n",
              "      --hover-bg-color: #E2EBFA;\n",
              "      --hover-fill-color: #174EA6;\n",
              "      --disabled-fill-color: #AAA;\n",
              "      --disabled-bg-color: #DDD;\n",
              "  }\n",
              "\n",
              "  [theme=dark] .colab-df-quickchart {\n",
              "      --bg-color: #3B4455;\n",
              "      --fill-color: #D2E3FC;\n",
              "      --hover-bg-color: #434B5C;\n",
              "      --hover-fill-color: #FFFFFF;\n",
              "      --disabled-bg-color: #3B4455;\n",
              "      --disabled-fill-color: #666;\n",
              "  }\n",
              "\n",
              "  .colab-df-quickchart {\n",
              "    background-color: var(--bg-color);\n",
              "    border: none;\n",
              "    border-radius: 50%;\n",
              "    cursor: pointer;\n",
              "    display: none;\n",
              "    fill: var(--fill-color);\n",
              "    height: 32px;\n",
              "    padding: 0;\n",
              "    width: 32px;\n",
              "  }\n",
              "\n",
              "  .colab-df-quickchart:hover {\n",
              "    background-color: var(--hover-bg-color);\n",
              "    box-shadow: 0 1px 2px rgba(60, 64, 67, 0.3), 0 1px 3px 1px rgba(60, 64, 67, 0.15);\n",
              "    fill: var(--button-hover-fill-color);\n",
              "  }\n",
              "\n",
              "  .colab-df-quickchart-complete:disabled,\n",
              "  .colab-df-quickchart-complete:disabled:hover {\n",
              "    background-color: var(--disabled-bg-color);\n",
              "    fill: var(--disabled-fill-color);\n",
              "    box-shadow: none;\n",
              "  }\n",
              "\n",
              "  .colab-df-spinner {\n",
              "    border: 2px solid var(--fill-color);\n",
              "    border-color: transparent;\n",
              "    border-bottom-color: var(--fill-color);\n",
              "    animation:\n",
              "      spin 1s steps(1) infinite;\n",
              "  }\n",
              "\n",
              "  @keyframes spin {\n",
              "    0% {\n",
              "      border-color: transparent;\n",
              "      border-bottom-color: var(--fill-color);\n",
              "      border-left-color: var(--fill-color);\n",
              "    }\n",
              "    20% {\n",
              "      border-color: transparent;\n",
              "      border-left-color: var(--fill-color);\n",
              "      border-top-color: var(--fill-color);\n",
              "    }\n",
              "    30% {\n",
              "      border-color: transparent;\n",
              "      border-left-color: var(--fill-color);\n",
              "      border-top-color: var(--fill-color);\n",
              "      border-right-color: var(--fill-color);\n",
              "    }\n",
              "    40% {\n",
              "      border-color: transparent;\n",
              "      border-right-color: var(--fill-color);\n",
              "      border-top-color: var(--fill-color);\n",
              "    }\n",
              "    60% {\n",
              "      border-color: transparent;\n",
              "      border-right-color: var(--fill-color);\n",
              "    }\n",
              "    80% {\n",
              "      border-color: transparent;\n",
              "      border-right-color: var(--fill-color);\n",
              "      border-bottom-color: var(--fill-color);\n",
              "    }\n",
              "    90% {\n",
              "      border-color: transparent;\n",
              "      border-bottom-color: var(--fill-color);\n",
              "    }\n",
              "  }\n",
              "</style>\n",
              "\n",
              "      <script>\n",
              "        async function quickchart(key) {\n",
              "          const quickchartButtonEl =\n",
              "            document.querySelector('#' + key + ' button');\n",
              "          quickchartButtonEl.disabled = true;  // To prevent multiple clicks.\n",
              "          quickchartButtonEl.classList.add('colab-df-spinner');\n",
              "          try {\n",
              "            const charts = await google.colab.kernel.invokeFunction(\n",
              "                'suggestCharts', [key], {});\n",
              "          } catch (error) {\n",
              "            console.error('Error during call to suggestCharts:', error);\n",
              "          }\n",
              "          quickchartButtonEl.classList.remove('colab-df-spinner');\n",
              "          quickchartButtonEl.classList.add('colab-df-quickchart-complete');\n",
              "        }\n",
              "        (() => {\n",
              "          let quickchartButtonEl =\n",
              "            document.querySelector('#df-e2fe9064-cf56-4ca7-901d-afd737ea2766 button');\n",
              "          quickchartButtonEl.style.display =\n",
              "            google.colab.kernel.accessAllowed ? 'block' : 'none';\n",
              "        })();\n",
              "      </script>\n",
              "    </div>\n",
              "\n",
              "    </div>\n",
              "  </div>\n"
            ],
            "application/vnd.google.colaboratory.intrinsic+json": {
              "type": "dataframe",
              "variable_name": "loja",
              "summary": "{\n  \"name\": \"loja\",\n  \"rows\": 2359,\n  \"fields\": [\n    {\n      \"column\": \"Produto\",\n      \"properties\": {\n        \"dtype\": \"category\",\n        \"num_unique_values\": 51,\n        \"samples\": [\n          \"Viol\\u00e3o\",\n          \"Bola de basquete\",\n          \"Smartwatch\"\n        ],\n        \"semantic_type\": \"\",\n        \"description\": \"\"\n      }\n    },\n    {\n      \"column\": \"Categoria do Produto\",\n      \"properties\": {\n        \"dtype\": \"category\",\n        \"num_unique_values\": 8,\n        \"samples\": [\n          \"moveis\",\n          \"esporte e lazer\",\n          \"eletronicos\"\n        ],\n        \"semantic_type\": \"\",\n        \"description\": \"\"\n      }\n    },\n    {\n      \"column\": \"Pre\\u00e7o\",\n      \"properties\": {\n        \"dtype\": \"number\",\n        \"std\": 819.5827782539145,\n        \"min\": 10.07,\n        \"max\": 3969.38,\n        \"num_unique_values\": 2315,\n        \"samples\": [\n          446.11,\n          107.31,\n          65.86\n        ],\n        \"semantic_type\": \"\",\n        \"description\": \"\"\n      }\n    },\n    {\n      \"column\": \"Frete\",\n      \"properties\": {\n        \"dtype\": \"number\",\n        \"std\": 43.814183327408166,\n        \"min\": 0.0,\n        \"max\": 214.3770604781,\n        \"num_unique_values\": 2149,\n        \"samples\": [\n          83.815279607,\n          16.069664669,\n          14.0344876928\n        ],\n        \"semantic_type\": \"\",\n        \"description\": \"\"\n      }\n    },\n    {\n      \"column\": \"Data da Compra\",\n      \"properties\": {\n        \"dtype\": \"object\",\n        \"num_unique_values\": 1018,\n        \"samples\": [\n          \"15/09/2022\",\n          \"03/06/2020\",\n          \"06/11/2021\"\n        ],\n        \"semantic_type\": \"\",\n        \"description\": \"\"\n      }\n    },\n    {\n      \"column\": \"Vendedor\",\n      \"properties\": {\n        \"dtype\": \"category\",\n        \"num_unique_values\": 14,\n        \"samples\": [\n          \"Juliana Costa\",\n          \"Mariana Ferreira\",\n          \"Pedro Gomes\"\n        ],\n        \"semantic_type\": \"\",\n        \"description\": \"\"\n      }\n    },\n    {\n      \"column\": \"Local da compra\",\n      \"properties\": {\n        \"dtype\": \"category\",\n        \"num_unique_values\": 26,\n        \"samples\": [\n          \"TO\",\n          \"RN\",\n          \"SP\"\n        ],\n        \"semantic_type\": \"\",\n        \"description\": \"\"\n      }\n    },\n    {\n      \"column\": \"Avalia\\u00e7\\u00e3o da compra\",\n      \"properties\": {\n        \"dtype\": \"number\",\n        \"std\": 1,\n        \"min\": 1,\n        \"max\": 5,\n        \"num_unique_values\": 5,\n        \"samples\": [\n          1,\n          2,\n          5\n        ],\n        \"semantic_type\": \"\",\n        \"description\": \"\"\n      }\n    },\n    {\n      \"column\": \"Tipo de pagamento\",\n      \"properties\": {\n        \"dtype\": \"category\",\n        \"num_unique_values\": 4,\n        \"samples\": [\n          \"boleto\",\n          \"cartao_debito\",\n          \"cartao_credito\"\n        ],\n        \"semantic_type\": \"\",\n        \"description\": \"\"\n      }\n    },\n    {\n      \"column\": \"Quantidade de parcelas\",\n      \"properties\": {\n        \"dtype\": \"number\",\n        \"std\": 2,\n        \"min\": 1,\n        \"max\": 24,\n        \"num_unique_values\": 15,\n        \"samples\": [\n          7,\n          14,\n          8\n        ],\n        \"semantic_type\": \"\",\n        \"description\": \"\"\n      }\n    },\n    {\n      \"column\": \"lat\",\n      \"properties\": {\n        \"dtype\": \"number\",\n        \"std\": 5.372399916530833,\n        \"min\": -30.17,\n        \"max\": 1.41,\n        \"num_unique_values\": 26,\n        \"samples\": [\n          -9.46,\n          -5.81,\n          -22.19\n        ],\n        \"semantic_type\": \"\",\n        \"description\": \"\"\n      }\n    },\n    {\n      \"column\": \"lon\",\n      \"properties\": {\n        \"dtype\": \"number\",\n        \"std\": 4.183180020544179,\n        \"min\": -70.55,\n        \"max\": -36.59,\n        \"num_unique_values\": 26,\n        \"samples\": [\n          -48.26,\n          -36.59,\n          -48.79\n        ],\n        \"semantic_type\": \"\",\n        \"description\": \"\"\n      }\n    }\n  ]\n}"
            }
          },
          "metadata": {},
          "execution_count": 69
        }
      ],
      "source": [
        "import pandas as pd\n",
        "\n",
        "url = \"https://raw.githubusercontent.com/alura-es-cursos/challenge1-data-science/refs/heads/main/base-de-dados-challenge-1/loja_1.csv\"\n",
        "url2 = \"https://raw.githubusercontent.com/alura-es-cursos/challenge1-data-science/refs/heads/main/base-de-dados-challenge-1/loja_2.csv\"\n",
        "url3 = \"https://raw.githubusercontent.com/alura-es-cursos/challenge1-data-science/refs/heads/main/base-de-dados-challenge-1/loja_3.csv\"\n",
        "url4 = \"https://raw.githubusercontent.com/alura-es-cursos/challenge1-data-science/refs/heads/main/base-de-dados-challenge-1/loja_4.csv\"\n",
        "\n",
        "loja = pd.read_csv(url)\n",
        "loja2 = pd.read_csv(url2)\n",
        "loja3 = pd.read_csv(url3)\n",
        "loja4 = pd.read_csv(url4)\n",
        "\n",
        "loja.head()"
      ]
    },
    {
      "cell_type": "markdown",
      "source": [
        "#1. Análise do faturamento\n"
      ],
      "metadata": {
        "id": "X62IW3KFUIYm"
      }
    },
    {
      "cell_type": "code",
      "source": [
        "# Calculando o faturamento total de cada loja\n",
        "faturamento_loja_1 = loja['Preço'].sum()\n",
        "faturamento_loja_2 = loja2['Preço'].sum()\n",
        "faturamento_loja_3 = loja3['Preço'].sum()\n",
        "faturamento_loja_4 = loja4['Preço'].sum()\n",
        "\n",
        "# Formatando a saída\n",
        "faturamento_formatado = {\n",
        "    'Loja 1': f\"R$ {faturamento_loja_1:,.2f}\",\n",
        "    'Loja 2': f\"R$ {faturamento_loja_2:,.2f}\",\n",
        "    'Loja 3': f\"R$ {faturamento_loja_3:,.2f}\",\n",
        "    'Loja 4': f\"R$ {faturamento_loja_4:,.2f}\"\n",
        "}\n",
        "\n",
        "# Exibindo o faturamento formatado\n",
        "for loja, faturamento in faturamento_formatado.items():\n",
        "    print(f\"{loja}: {faturamento}\")\n"
      ],
      "metadata": {
        "id": "xykobSftV64I",
        "colab": {
          "base_uri": "https://localhost:8080/"
        },
        "outputId": "5c8781c1-c6bf-47aa-a126-6f74d6d90c61"
      },
      "execution_count": 10,
      "outputs": [
        {
          "output_type": "stream",
          "name": "stdout",
          "text": [
            "Loja 1: R$ 1,534,509.12\n",
            "Loja 2: R$ 1,488,459.06\n",
            "Loja 3: R$ 1,464,025.03\n",
            "Loja 4: R$ 1,384,497.58\n"
          ]
        }
      ]
    },
    {
      "cell_type": "code",
      "source": [],
      "metadata": {
        "id": "KDyr8E71V3m-"
      },
      "execution_count": null,
      "outputs": []
    },
    {
      "cell_type": "markdown",
      "source": [
        "# 2. Vendas por Categoria\n"
      ],
      "metadata": {
        "id": "2V_vcAPzWZmR"
      }
    },
    {
      "cell_type": "code",
      "source": [
        "# Calculando a quantidade de produtos vendidos por categoria para cada loja\n",
        "categorias_loja_1 = loja.groupby('Categoria do Produto')['Produto'].count()\n",
        "categorias_loja_2 = loja2.groupby('Categoria do Produto')['Produto'].count()\n",
        "categorias_loja_3 = loja3.groupby('Categoria do Produto')['Produto'].count()\n",
        "categorias_loja_4 = loja4.groupby('Categoria do Produto')['Produto'].count()\n",
        "\n",
        "# Função para formatar a saída\n",
        "def formatar_resultado(categorias, loja):\n",
        "    resultado = f\"Loja {loja}:\\n\"\n",
        "    for categoria, quantidade in categorias.items():\n",
        "        resultado += f\"{categoria}: {quantidade}\\n\"\n",
        "    return resultado\n",
        "\n",
        "# Formatando a saída de todas as lojas\n",
        "resultado_loja_1 = formatar_resultado(categorias_loja_1, 1)\n",
        "resultado_loja_2 = formatar_resultado(categorias_loja_2, 2)\n",
        "resultado_loja_3 = formatar_resultado(categorias_loja_3, 3)\n",
        "resultado_loja_4 = formatar_resultado(categorias_loja_4, 4)\n",
        "\n",
        "# Exibindo os resultados\n",
        "print(resultado_loja_1)\n",
        "print(resultado_loja_2)\n",
        "print(resultado_loja_3)\n",
        "print(resultado_loja_4)\n"
      ],
      "metadata": {
        "id": "A34YupIuYhfF",
        "colab": {
          "base_uri": "https://localhost:8080/"
        },
        "outputId": "fc662fa8-501f-4867-fbfb-2596c95ff3ac"
      },
      "execution_count": 15,
      "outputs": [
        {
          "output_type": "stream",
          "name": "stdout",
          "text": [
            "Loja 1:\n",
            "brinquedos: 324\n",
            "eletrodomesticos: 312\n",
            "eletronicos: 448\n",
            "esporte e lazer: 284\n",
            "instrumentos musicais: 182\n",
            "livros: 173\n",
            "moveis: 465\n",
            "utilidades domesticas: 171\n",
            "\n",
            "Loja 2:\n",
            "brinquedos: 313\n",
            "eletrodomesticos: 305\n",
            "eletronicos: 422\n",
            "esporte e lazer: 275\n",
            "instrumentos musicais: 224\n",
            "livros: 197\n",
            "moveis: 442\n",
            "utilidades domesticas: 181\n",
            "\n",
            "Loja 3:\n",
            "brinquedos: 315\n",
            "eletrodomesticos: 278\n",
            "eletronicos: 451\n",
            "esporte e lazer: 277\n",
            "instrumentos musicais: 177\n",
            "livros: 185\n",
            "moveis: 499\n",
            "utilidades domesticas: 177\n",
            "\n",
            "Loja 4:\n",
            "brinquedos: 338\n",
            "eletrodomesticos: 254\n",
            "eletronicos: 451\n",
            "esporte e lazer: 277\n",
            "instrumentos musicais: 170\n",
            "livros: 187\n",
            "moveis: 480\n",
            "utilidades domesticas: 201\n",
            "\n"
          ]
        }
      ]
    },
    {
      "cell_type": "code",
      "source": [
        "# Criando um gráfico de barras para as vendas por categoria\n",
        "import numpy as np\n",
        "\n",
        "# Agrupar as categorias de todas as lojas\n",
        "categorias_completas = {\n",
        "    'Loja 1': categorias_loja_1,\n",
        "    'Loja 2': categorias_loja_2,\n",
        "    'Loja 3': categorias_loja_3,\n",
        "    'Loja 4': categorias_loja_4\n",
        "}\n",
        "\n",
        "# Definindo o gráfico\n",
        "plt.figure(figsize=(12, 8))\n",
        "\n",
        "# Criando barras para cada loja e suas categorias\n",
        "width = 0.2  # largura das barras\n",
        "x = np.arange(len(categorias_loja_1))  # posição das categorias\n",
        "\n",
        "# Plotando para cada loja\n",
        "for i, (loja, categorias) in enumerate(categorias_completas.items()):\n",
        "    plt.bar(x + i*width, categorias.values, width, label=loja)\n",
        "\n",
        "# Adicionando título e rótulos\n",
        "plt.title(\"Vendas por Categoria em Cada Loja\")\n",
        "plt.xlabel(\"Categorias\")\n",
        "plt.ylabel(\"Quantidade de Produtos Vendidos\")\n",
        "plt.xticks(x + width*1.5, categorias_loja_1.index, rotation=45)  # Ajusta as categorias no eixo X\n",
        "plt.legend(title=\"Lojas\")\n",
        "\n",
        "plt.tight_layout()\n",
        "plt.show()\n"
      ],
      "metadata": {
        "id": "yZR6cOjXYSk1",
        "colab": {
          "base_uri": "https://localhost:8080/",
          "height": 807
        },
        "outputId": "1f40c106-4f9b-44cb-94f2-1817a60dad76"
      },
      "execution_count": 33,
      "outputs": [
        {
          "output_type": "display_data",
          "data": {
            "text/plain": [
              "<Figure size 1200x800 with 1 Axes>"
            ],
            "image/png": "[encoded data removed]"
          },
          "metadata": {}
        }
      ]
    },
    {
      "cell_type": "markdown",
      "source": [
        "# 3. Média de Avaliação das Lojas"
      ],
      "metadata": {
        "id": "Rq6tU_xSY3jk"
      }
    },
    {
      "cell_type": "code",
      "source": [
        "# Calculando a média das avaliações dos clientes para cada loja\n",
        "media_avaliacoes_loja_1 = loja['Avaliação da compra'].mean()\n",
        "media_avaliacoes_loja_2 = loja2['Avaliação da compra'].mean()\n",
        "media_avaliacoes_loja_3 = loja3['Avaliação da compra'].mean()\n",
        "media_avaliacoes_loja_4 = loja4['Avaliação da compra'].mean()\n",
        "\n",
        "# Armazenando as médias das avaliações\n",
        "media_avaliacoes = {\n",
        "    'Loja 1': media_avaliacoes_loja_1,\n",
        "    'Loja 2': media_avaliacoes_loja_2,\n",
        "    'Loja 3': media_avaliacoes_loja_3,\n",
        "    'Loja 4': media_avaliacoes_loja_4\n",
        "}\n",
        "\n",
        "# Função para formatar a saída das médias das avaliações\n",
        "def formatar_media_avaliacoes(media_avaliacoes):\n",
        "    resultado = \"A média das avaliações dos clientes para cada loja é a seguinte:\\n\"\n",
        "    for loja, media in media_avaliacoes.items():\n",
        "        resultado += f\"{loja}: {media:.2f}\\n\"\n",
        "    return resultado\n",
        "\n",
        "# Exibindo a saída formatada\n",
        "print(formatar_media_avaliacoes(media_avaliacoes))\n"
      ],
      "metadata": {
        "id": "bh3jjjJwY5MU",
        "colab": {
          "base_uri": "https://localhost:8080/"
        },
        "outputId": "28d91a8b-4fd3-4c4e-fe4a-437871936bf2"
      },
      "execution_count": 17,
      "outputs": [
        {
          "output_type": "stream",
          "name": "stdout",
          "text": [
            "A média das avaliações dos clientes para cada loja é a seguinte:\n",
            "Loja 1: 3.98\n",
            "Loja 2: 4.04\n",
            "Loja 3: 4.05\n",
            "Loja 4: 4.00\n",
            "\n"
          ]
        }
      ]
    },
    {
      "cell_type": "code",
      "source": [
        "# Criando o gráfico de linhas para a média das avaliações\n",
        "plt.figure(figsize=(8, 6))\n",
        "\n",
        "# Criando o gráfico de linha\n",
        "plt.plot(lojas, avaliacoes, marker='o', color='b', linestyle='-', linewidth=2, markersize=8)\n",
        "\n",
        "# Adicionando título e rótulos\n",
        "plt.title(\"Média das Avaliações dos Clientes por Loja\")\n",
        "plt.xlabel(\"Lojas\")\n",
        "plt.ylabel(\"Média de Avaliação\")\n",
        "\n",
        "# Exibindo os valores nas linhas\n",
        "for i, v in enumerate(avaliacoes):\n",
        "    plt.text(i, v + 0.01, f\"{v:.2f}\", ha='center', va='bottom', fontweight='bold')\n",
        "\n",
        "# Ajustando o limite do eixo Y para garantir que os números fiquem dentro do gráfico\n",
        "plt.ylim(min(avaliacoes) - 0.05, max(avaliacoes) + 0.05)\n",
        "\n",
        "# Ajustando as margens para garantir que tudo esteja visível\n",
        "plt.tight_layout()\n",
        "\n",
        "# Exibindo o gráfico\n",
        "plt.show()\n"
      ],
      "metadata": {
        "id": "I0KkjPoTY88F",
        "colab": {
          "base_uri": "https://localhost:8080/",
          "height": 607
        },
        "outputId": "b381901c-8723-4dec-b63c-f8c80a1dbecf"
      },
      "execution_count": 43,
      "outputs": [
        {
          "output_type": "display_data",
          "data": {
            "text/plain": [
              "<Figure size 800x600 with 1 Axes>"
            ],
            "image/png": "[encoded data removed]"
          },
          "metadata": {}
        }
      ]
    },
    {
      "cell_type": "markdown",
      "source": [
        "# 4. Produtos Mais e Menos Vendidos"
      ],
      "metadata": {
        "id": "DmNp1KPBZCm-"
      }
    },
    {
      "cell_type": "code",
      "source": [
        "import matplotlib.pyplot as plt\n",
        "\n",
        "# Calculando a quantidade total de vendas por produto em cada loja\n",
        "produtos_vendidos_loja_1 = loja.groupby('Produto')['Quantidade de parcelas'].sum()\n",
        "produtos_vendidos_loja_2 = loja2.groupby('Produto')['Quantidade de parcelas'].sum()\n",
        "produtos_vendidos_loja_3 = loja3.groupby('Produto')['Quantidade de parcelas'].sum()\n",
        "produtos_vendidos_loja_4 = loja4.groupby('Produto')['Quantidade de parcelas'].sum()\n",
        "\n",
        "# Identificando os produtos mais vendidos (máximo) e menos vendidos (mínimo)\n",
        "mais_vendidos_loja_1 = produtos_vendidos_loja_1.idxmax(), produtos_vendidos_loja_1.max()\n",
        "menos_vendidos_loja_1 = produtos_vendidos_loja_1.idxmin(), produtos_vendidos_loja_1.min()\n",
        "\n",
        "mais_vendidos_loja_2 = produtos_vendidos_loja_2.idxmax(), produtos_vendidos_loja_2.max()\n",
        "menos_vendidos_loja_2 = produtos_vendidos_loja_2.idxmin(), produtos_vendidos_loja_2.min()\n",
        "\n",
        "mais_vendidos_loja_3 = produtos_vendidos_loja_3.idxmax(), produtos_vendidos_loja_3.max()\n",
        "menos_vendidos_loja_3 = produtos_vendidos_loja_3.idxmin(), produtos_vendidos_loja_3.min()\n",
        "\n",
        "mais_vendidos_loja_4 = produtos_vendidos_loja_4.idxmax(), produtos_vendidos_loja_4.max()\n",
        "menos_vendidos_loja_4 = produtos_vendidos_loja_4.idxmin(), produtos_vendidos_loja_4.min()\n",
        "\n",
        "# Exibindo os resultados textualmente\n",
        "print(f\"Loja 1 - Produto mais vendido: {mais_vendidos_loja_1[0]} ({mais_vendidos_loja_1[1]} unidades), Produto menos vendido: {menos_vendidos_loja_1[0]} ({menos_vendidos_loja_1[1]} unidades)\")\n",
        "print(f\"Loja 2 - Produto mais vendido: {mais_vendidos_loja_2[0]} ({mais_vendidos_loja_2[1]} unidades), Produto menos vendido: {menos_vendidos_loja_2[0]} ({menos_vendidos_loja_2[1]} unidades)\")\n",
        "print(f\"Loja 3 - Produto mais vendido: {mais_vendidos_loja_3[0]} ({mais_vendidos_loja_3[1]} unidades), Produto menos vendido: {menos_vendidos_loja_3[0]} ({menos_vendidos_loja_3[1]} unidades)\")\n",
        "print(f\"Loja 4 - Produto mais vendido: {mais_vendidos_loja_4[0]} ({mais_vendidos_loja_4[1]} unidades), Produto menos vendido: {menos_vendidos_loja_4[0]} ({menos_vendidos_loja_4[1]} unidades)\")\n"
      ],
      "metadata": {
        "id": "qoyjqijQZHfF",
        "colab": {
          "base_uri": "https://localhost:8080/"
        },
        "outputId": "26759028-0a9a-4481-c3bc-ccbaccf739f8"
      },
      "execution_count": 23,
      "outputs": [
        {
          "output_type": "stream",
          "name": "stdout",
          "text": [
            "Loja 1 - Produto mais vendido: Secadora de roupas (214 unidades), Produto menos vendido: Celular ABXY (78 unidades)\n",
            "Loja 2 - Produto mais vendido: Iniciando em programação (223 unidades), Produto menos vendido: Mesa de jantar (89 unidades)\n",
            "Loja 3 - Produto mais vendido: Bicicleta (191 unidades), Produto menos vendido: TV Led UHD 4K (94 unidades)\n",
            "Loja 4 - Produto mais vendido: Dashboards com Power BI (196 unidades), Produto menos vendido: Guarda roupas (88 unidades)\n"
          ]
        }
      ]
    },
    {
      "cell_type": "code",
      "source": [
        "import plotly.express as px\n",
        "import pandas as pd\n",
        "\n",
        "# Dados dos produtos mais e menos vendidos\n",
        "lojas = ['Loja 1', 'Loja 2', 'Loja 3', 'Loja 4']\n",
        "produtos_mais_vendidos = [mais_vendidos_loja_1[0], mais_vendidos_loja_2[0], mais_vendidos_loja_3[0], mais_vendidos_loja_4[0]]\n",
        "produtos_menos_vendidos = [menos_vendidos_loja_1[0], menos_vendidos_loja_2[0], menos_vendidos_loja_3[0], menos_vendidos_loja_4[0]]\n",
        "quantidade_mais_vendidos = [mais_vendidos_loja_1[1], mais_vendidos_loja_2[1], mais_vendidos_loja_3[1], mais_vendidos_loja_4[1]]\n",
        "quantidade_menos_vendidos = [menos_vendidos_loja_1[1], menos_vendidos_loja_2[1], menos_vendidos_loja_3[1], menos_vendidos_loja_4[1]]\n",
        "\n",
        "# Preparando o dataframe para o gráfico\n",
        "data = {\n",
        "    \"Loja\": lojas * 2,\n",
        "    \"Produto\": produtos_mais_vendidos + produtos_menos_vendidos,\n",
        "    \"Quantidade Vendida\": quantidade_mais_vendidos + quantidade_menos_vendidos,\n",
        "    \"Tipo\": ['Mais Vendidos'] * len(lojas) + ['Menos Vendidos'] * len(lojas),\n",
        "}\n",
        "\n",
        "df = pd.DataFrame(data)\n",
        "\n",
        "# Criando o gráfico de bolhas\n",
        "fig = px.scatter(df,\n",
        "                 x=\"Loja\",\n",
        "                 y=\"Quantidade Vendida\",\n",
        "                 size=\"Quantidade Vendida\",\n",
        "                 color=\"Tipo\",\n",
        "                 hover_name=\"Produto\",\n",
        "                 title=\"Produtos Mais e Menos Vendidos por Loja\",\n",
        "                 labels={\"Quantidade Vendida\": \"Quantidade Vendida\", \"Loja\": \"Loja\"},\n",
        "                 color_discrete_map={\"Mais Vendidos\": \"green\", \"Menos Vendidos\": \"red\"},\n",
        "                 size_max=60)\n",
        "\n",
        "# Adicionando rótulos de texto dentro das bolhas\n",
        "fig.update_traces(text=df['Produto'], textposition='middle center', marker=dict(line=dict(width=2, color='black')))\n",
        "\n",
        "# Exibindo o gráfico\n",
        "fig.show()\n"
      ],
      "metadata": {
        "id": "0Sw3sd4IZIGW",
        "colab": {
          "base_uri": "https://localhost:8080/",
          "height": 542
        },
        "outputId": "6827eedb-8d9e-44a0-95ce-5f9812877e3a"
      },
      "execution_count": 65,
      "outputs": [
        {
          "output_type": "display_data",
          "data": {
            "text/html": [
              "<html>\n",
              "<head><meta charset=\"utf-8\" /></head>\n",
              "<body>\n",
              "    <div>            <script src=\"https://cdnjs.cloudflare.com/ajax/libs/mathjax/2.7.5/MathJax.js?config=TeX-AMS-MML_SVG\"></script><script type=\"text/javascript\">if (window.MathJax && window.MathJax.Hub && window.MathJax.Hub.Config) {window.MathJax.Hub.Config({SVG: {font: \"STIX-Web\"}});}</script>                <script type=\"text/javascript\">window.PlotlyConfig = {MathJaxConfig: 'local'};</script>\n",
              "        <script charset=\"utf-8\" src=\"https://cdn.plot.ly/plotly-2.35.2.min.js\"></script>                <div id=\"cd2d2caf-c894-4fe9-8b7c-acc5c6f63369\" class=\"plotly-graph-div\" style=\"height:525px; width:100%;\"></div>            <script type=\"text/javascript\">                                    window.PLOTLYENV=window.PLOTLYENV || {};                                    if (document.getElementById(\"cd2d2caf-c894-4fe9-8b7c-acc5c6f63369\")) {                    Plotly.newPlot(                        \"cd2d2caf-c894-4fe9-8b7c-acc5c6f63369\",                        [{\"hovertemplate\":\"\\u003cb\\u003e%{hovertext}\\u003c\\u002fb\\u003e\\u003cbr\\u003e\\u003cbr\\u003eTipo=Mais Vendidos\\u003cbr\\u003eLoja=%{x}\\u003cbr\\u003eQuantidade Vendida=%{marker.size}\\u003cextra\\u003e\\u003c\\u002fextra\\u003e\",\"hovertext\":[\"Secadora de roupas\",\"Iniciando em programação\",\"Bicicleta\",\"Dashboards com Power BI\"],\"legendgroup\":\"Mais Vendidos\",\"marker\":{\"color\":\"green\",\"size\":[214,223,191,196],\"sizemode\":\"area\",\"sizeref\":0.06194444444444445,\"symbol\":\"circle\",\"line\":{\"color\":\"black\",\"width\":2}},\"mode\":\"markers\",\"name\":\"Mais Vendidos\",\"orientation\":\"v\",\"showlegend\":true,\"x\":[\"Loja 1\",\"Loja 2\",\"Loja 3\",\"Loja 4\"],\"xaxis\":\"x\",\"y\":[214,223,191,196],\"yaxis\":\"y\",\"type\":\"scatter\",\"text\":[\"Secadora de roupas\",\"Iniciando em programação\",\"Bicicleta\",\"Dashboards com Power BI\",\"Celular ABXY\",\"Mesa de jantar\",\"TV Led UHD 4K\",\"Guarda roupas\"],\"textposition\":\"middle center\"},{\"hovertemplate\":\"\\u003cb\\u003e%{hovertext}\\u003c\\u002fb\\u003e\\u003cbr\\u003e\\u003cbr\\u003eTipo=Menos Vendidos\\u003cbr\\u003eLoja=%{x}\\u003cbr\\u003eQuantidade Vendida=%{marker.size}\\u003cextra\\u003e\\u003c\\u002fextra\\u003e\",\"hovertext\":[\"Celular ABXY\",\"Mesa de jantar\",\"TV Led UHD 4K\",\"Guarda roupas\"],\"legendgroup\":\"Menos Vendidos\",\"marker\":{\"color\":\"red\",\"size\":[78,89,94,88],\"sizemode\":\"area\",\"sizeref\":0.06194444444444445,\"symbol\":\"circle\",\"line\":{\"color\":\"black\",\"width\":2}},\"mode\":\"markers\",\"name\":\"Menos Vendidos\",\"orientation\":\"v\",\"showlegend\":true,\"x\":[\"Loja 1\",\"Loja 2\",\"Loja 3\",\"Loja 4\"],\"xaxis\":\"x\",\"y\":[78,89,94,88],\"yaxis\":\"y\",\"type\":\"scatter\",\"text\":[\"Secadora de roupas\",\"Iniciando em programação\",\"Bicicleta\",\"Dashboards com Power BI\",\"Celular ABXY\",\"Mesa de jantar\",\"TV Led UHD 4K\",\"Guarda roupas\"],\"textposition\":\"middle center\"}],                        {\"template\":{\"data\":{\"histogram2dcontour\":[{\"type\":\"histogram2dcontour\",\"colorbar\":{\"outlinewidth\":0,\"ticks\":\"\"},\"colorscale\":[[0.0,\"#0d0887\"],[0.1111111111111111,\"#46039f\"],[0.2222222222222222,\"#7201a8\"],[0.3333333333333333,\"#9c179e\"],[0.4444444444444444,\"#bd3786\"],[0.5555555555555556,\"#d8576b\"],[0.6666666666666666,\"#ed7953\"],[0.7777777777777778,\"#fb9f3a\"],[0.8888888888888888,\"#fdca26\"],[1.0,\"#f0f921\"]]}],\"choropleth\":[{\"type\":\"choropleth\",\"colorbar\":{\"outlinewidth\":0,\"ticks\":\"\"}}],\"histogram2d\":[{\"type\":\"histogram2d\",\"colorbar\":{\"outlinewidth\":0,\"ticks\":\"\"},\"colorscale\":[[0.0,\"#0d0887\"],[0.1111111111111111,\"#46039f\"],[0.2222222222222222,\"#7201a8\"],[0.3333333333333333,\"#9c179e\"],[0.4444444444444444,\"#bd3786\"],[0.5555555555555556,\"#d8576b\"],[0.6666666666666666,\"#ed7953\"],[0.7777777777777778,\"#fb9f3a\"],[0.8888888888888888,\"#fdca26\"],[1.0,\"#f0f921\"]]}],\"heatmap\":[{\"type\":\"heatmap\",\"colorbar\":{\"outlinewidth\":0,\"ticks\":\"\"},\"colorscale\":[[0.0,\"#0d0887\"],[0.1111111111111111,\"#46039f\"],[0.2222222222222222,\"#7201a8\"],[0.3333333333333333,\"#9c179e\"],[0.4444444444444444,\"#bd3786\"],[0.5555555555555556,\"#d8576b\"],[0.6666666666666666,\"#ed7953\"],[0.7777777777777778,\"#fb9f3a\"],[0.8888888888888888,\"#fdca26\"],[1.0,\"#f0f921\"]]}],\"heatmapgl\":[{\"type\":\"heatmapgl\",\"colorbar\":{\"outlinewidth\":0,\"ticks\":\"\"},\"colorscale\":[[0.0,\"#0d0887\"],[0.1111111111111111,\"#46039f\"],[0.2222222222222222,\"#7201a8\"],[0.3333333333333333,\"#9c179e\"],[0.4444444444444444,\"#bd3786\"],[0.5555555555555556,\"#d8576b\"],[0.6666666666666666,\"#ed7953\"],[0.7777777777777778,\"#fb9f3a\"],[0.8888888888888888,\"#fdca26\"],[1.0,\"#f0f921\"]]}],\"contourcarpet\":[{\"type\":\"contourcarpet\",\"colorbar\":{\"outlinewidth\":0,\"ticks\":\"\"}}],\"contour\":[{\"type\":\"contour\",\"colorbar\":{\"outlinewidth\":0,\"ticks\":\"\"},\"colorscale\":[[0.0,\"#0d0887\"],[0.1111111111111111,\"#46039f\"],[0.2222222222222222,\"#7201a8\"],[0.3333333333333333,\"#9c179e\"],[0.4444444444444444,\"#bd3786\"],[0.5555555555555556,\"#d8576b\"],[0.6666666666666666,\"#ed7953\"],[0.7777777777777778,\"#fb9f3a\"],[0.8888888888888888,\"#fdca26\"],[1.0,\"#f0f921\"]]}],\"surface\":[{\"type\":\"surface\",\"colorbar\":{\"outlinewidth\":0,\"ticks\":\"\"},\"colorscale\":[[0.0,\"#0d0887\"],[0.1111111111111111,\"#46039f\"],[0.2222222222222222,\"#7201a8\"],[0.3333333333333333,\"#9c179e\"],[0.4444444444444444,\"#bd3786\"],[0.5555555555555556,\"#d8576b\"],[0.6666666666666666,\"#ed7953\"],[0.7777777777777778,\"#fb9f3a\"],[0.8888888888888888,\"#fdca26\"],[1.0,\"#f0f921\"]]}],\"mesh3d\":[{\"type\":\"mesh3d\",\"colorbar\":{\"outlinewidth\":0,\"ticks\":\"\"}}],\"scatter\":[{\"fillpattern\":{\"fillmode\":\"overlay\",\"size\":10,\"solidity\":0.2},\"type\":\"scatter\"}],\"parcoords\":[{\"type\":\"parcoords\",\"line\":{\"colorbar\":{\"outlinewidth\":0,\"ticks\":\"\"}}}],\"scatterpolargl\":[{\"type\":\"scatterpolargl\",\"marker\":{\"colorbar\":{\"outlinewidth\":0,\"ticks\":\"\"}}}],\"bar\":[{\"error_x\":{\"color\":\"#2a3f5f\"},\"error_y\":{\"color\":\"#2a3f5f\"},\"marker\":{\"line\":{\"color\":\"#E5ECF6\",\"width\":0.5},\"pattern\":{\"fillmode\":\"overlay\",\"size\":10,\"solidity\":0.2}},\"type\":\"bar\"}],\"scattergeo\":[{\"type\":\"scattergeo\",\"marker\":{\"colorbar\":{\"outlinewidth\":0,\"ticks\":\"\"}}}],\"scatterpolar\":[{\"type\":\"scatterpolar\",\"marker\":{\"colorbar\":{\"outlinewidth\":0,\"ticks\":\"\"}}}],\"histogram\":[{\"marker\":{\"pattern\":{\"fillmode\":\"overlay\",\"size\":10,\"solidity\":0.2}},\"type\":\"histogram\"}],\"scattergl\":[{\"type\":\"scattergl\",\"marker\":{\"colorbar\":{\"outlinewidth\":0,\"ticks\":\"\"}}}],\"scatter3d\":[{\"type\":\"scatter3d\",\"line\":{\"colorbar\":{\"outlinewidth\":0,\"ticks\":\"\"}},\"marker\":{\"colorbar\":{\"outlinewidth\":0,\"ticks\":\"\"}}}],\"scattermapbox\":[{\"type\":\"scattermapbox\",\"marker\":{\"colorbar\":{\"outlinewidth\":0,\"ticks\":\"\"}}}],\"scatterternary\":[{\"type\":\"scatterternary\",\"marker\":{\"colorbar\":{\"outlinewidth\":0,\"ticks\":\"\"}}}],\"scattercarpet\":[{\"type\":\"scattercarpet\",\"marker\":{\"colorbar\":{\"outlinewidth\":0,\"ticks\":\"\"}}}],\"carpet\":[{\"aaxis\":{\"endlinecolor\":\"#2a3f5f\",\"gridcolor\":\"white\",\"linecolor\":\"white\",\"minorgridcolor\":\"white\",\"startlinecolor\":\"#2a3f5f\"},\"baxis\":{\"endlinecolor\":\"#2a3f5f\",\"gridcolor\":\"white\",\"linecolor\":\"white\",\"minorgridcolor\":\"white\",\"startlinecolor\":\"#2a3f5f\"},\"type\":\"carpet\"}],\"table\":[{\"cells\":{\"fill\":{\"color\":\"#EBF0F8\"},\"line\":{\"color\":\"white\"}},\"header\":{\"fill\":{\"color\":\"#C8D4E3\"},\"line\":{\"color\":\"white\"}},\"type\":\"table\"}],\"barpolar\":[{\"marker\":{\"line\":{\"color\":\"#E5ECF6\",\"width\":0.5},\"pattern\":{\"fillmode\":\"overlay\",\"size\":10,\"solidity\":0.2}},\"type\":\"barpolar\"}],\"pie\":[{\"automargin\":true,\"type\":\"pie\"}]},\"layout\":{\"autotypenumbers\":\"strict\",\"colorway\":[\"#636efa\",\"#EF553B\",\"#00cc96\",\"#ab63fa\",\"#FFA15A\",\"#19d3f3\",\"#FF6692\",\"#B6E880\",\"#FF97FF\",\"#FECB52\"],\"font\":{\"color\":\"#2a3f5f\"},\"hovermode\":\"closest\",\"hoverlabel\":{\"align\":\"left\"},\"paper_bgcolor\":\"white\",\"plot_bgcolor\":\"#E5ECF6\",\"polar\":{\"bgcolor\":\"#E5ECF6\",\"angularaxis\":{\"gridcolor\":\"white\",\"linecolor\":\"white\",\"ticks\":\"\"},\"radialaxis\":{\"gridcolor\":\"white\",\"linecolor\":\"white\",\"ticks\":\"\"}},\"ternary\":{\"bgcolor\":\"#E5ECF6\",\"aaxis\":{\"gridcolor\":\"white\",\"linecolor\":\"white\",\"ticks\":\"\"},\"baxis\":{\"gridcolor\":\"white\",\"linecolor\":\"white\",\"ticks\":\"\"},\"caxis\":{\"gridcolor\":\"white\",\"linecolor\":\"white\",\"ticks\":\"\"}},\"coloraxis\":{\"colorbar\":{\"outlinewidth\":0,\"ticks\":\"\"}},\"colorscale\":{\"sequential\":[[0.0,\"#0d0887\"],[0.1111111111111111,\"#46039f\"],[0.2222222222222222,\"#7201a8\"],[0.3333333333333333,\"#9c179e\"],[0.4444444444444444,\"#bd3786\"],[0.5555555555555556,\"#d8576b\"],[0.6666666666666666,\"#ed7953\"],[0.7777777777777778,\"#fb9f3a\"],[0.8888888888888888,\"#fdca26\"],[1.0,\"#f0f921\"]],\"sequentialminus\":[[0.0,\"#0d0887\"],[0.1111111111111111,\"#46039f\"],[0.2222222222222222,\"#7201a8\"],[0.3333333333333333,\"#9c179e\"],[0.4444444444444444,\"#bd3786\"],[0.5555555555555556,\"#d8576b\"],[0.6666666666666666,\"#ed7953\"],[0.7777777777777778,\"#fb9f3a\"],[0.8888888888888888,\"#fdca26\"],[1.0,\"#f0f921\"]],\"diverging\":[[0,\"#8e0152\"],[0.1,\"#c51b7d\"],[0.2,\"#de77ae\"],[0.3,\"#f1b6da\"],[0.4,\"#fde0ef\"],[0.5,\"#f7f7f7\"],[0.6,\"#e6f5d0\"],[0.7,\"#b8e186\"],[0.8,\"#7fbc41\"],[0.9,\"#4d9221\"],[1,\"#276419\"]]},\"xaxis\":{\"gridcolor\":\"white\",\"linecolor\":\"white\",\"ticks\":\"\",\"title\":{\"standoff\":15},\"zerolinecolor\":\"white\",\"automargin\":true,\"zerolinewidth\":2},\"yaxis\":{\"gridcolor\":\"white\",\"linecolor\":\"white\",\"ticks\":\"\",\"title\":{\"standoff\":15},\"zerolinecolor\":\"white\",\"automargin\":true,\"zerolinewidth\":2},\"scene\":{\"xaxis\":{\"backgroundcolor\":\"#E5ECF6\",\"gridcolor\":\"white\",\"linecolor\":\"white\",\"showbackground\":true,\"ticks\":\"\",\"zerolinecolor\":\"white\",\"gridwidth\":2},\"yaxis\":{\"backgroundcolor\":\"#E5ECF6\",\"gridcolor\":\"white\",\"linecolor\":\"white\",\"showbackground\":true,\"ticks\":\"\",\"zerolinecolor\":\"white\",\"gridwidth\":2},\"zaxis\":{\"backgroundcolor\":\"#E5ECF6\",\"gridcolor\":\"white\",\"linecolor\":\"white\",\"showbackground\":true,\"ticks\":\"\",\"zerolinecolor\":\"white\",\"gridwidth\":2}},\"shapedefaults\":{\"line\":{\"color\":\"#2a3f5f\"}},\"annotationdefaults\":{\"arrowcolor\":\"#2a3f5f\",\"arrowhead\":0,\"arrowwidth\":1},\"geo\":{\"bgcolor\":\"white\",\"landcolor\":\"#E5ECF6\",\"subunitcolor\":\"white\",\"showland\":true,\"showlakes\":true,\"lakecolor\":\"white\"},\"title\":{\"x\":0.05},\"mapbox\":{\"style\":\"light\"}}},\"xaxis\":{\"anchor\":\"y\",\"domain\":[0.0,1.0],\"title\":{\"text\":\"Loja\"}},\"yaxis\":{\"anchor\":\"x\",\"domain\":[0.0,1.0],\"title\":{\"text\":\"Quantidade Vendida\"}},\"legend\":{\"title\":{\"text\":\"Tipo\"},\"tracegroupgap\":0,\"itemsizing\":\"constant\"},\"title\":{\"text\":\"Produtos Mais e Menos Vendidos por Loja\"}},                        {\"responsive\": true}                    ).then(function(){\n",
              "                            \n",
              "var gd = document.getElementById('cd2d2caf-c894-4fe9-8b7c-acc5c6f63369');\n",
              "var x = new MutationObserver(function (mutations, observer) {{\n",
              "        var display = window.getComputedStyle(gd).display;\n",
              "        if (!display || display === 'none') {{\n",
              "            console.log([gd, 'removed!']);\n",
              "            Plotly.purge(gd);\n",
              "            observer.disconnect();\n",
              "        }}\n",
              "}});\n",
              "\n",
              "// Listen for the removal of the full notebook cells\n",
              "var notebookContainer = gd.closest('#notebook-container');\n",
              "if (notebookContainer) {{\n",
              "    x.observe(notebookContainer, {childList: true});\n",
              "}}\n",
              "\n",
              "// Listen for the clearing of the current output cell\n",
              "var outputEl = gd.closest('.output');\n",
              "if (outputEl) {{\n",
              "    x.observe(outputEl, {childList: true});\n",
              "}}\n",
              "\n",
              "                        })                };                            </script>        </div>\n",
              "</body>\n",
              "</html>"
            ]
          },
          "metadata": {}
        }
      ]
    },
    {
      "cell_type": "markdown",
      "source": [
        "# 5. Frete Médio por Loja\n"
      ],
      "metadata": {
        "id": "Fl0cGi3bZKqU"
      }
    },
    {
      "cell_type": "code",
      "source": [
        "# Calculando o custo médio de frete para cada loja\n",
        "custo_medio_frete_loja_1 = loja['Frete'].mean()\n",
        "custo_medio_frete_loja_2 = loja2['Frete'].mean()\n",
        "custo_medio_frete_loja_3 = loja3['Frete'].mean()\n",
        "custo_medio_frete_loja_4 = loja4['Frete'].mean()\n",
        "\n",
        "# Armazenando os resultados\n",
        "custo_medio_frete = {\n",
        "    'Loja 1': custo_medio_frete_loja_1,\n",
        "    'Loja 2': custo_medio_frete_loja_2,\n",
        "    'Loja 3': custo_medio_frete_loja_3,\n",
        "    'Loja 4': custo_medio_frete_loja_4\n",
        "}\n",
        "\n",
        "# Função para formatar e exibir os resultados de forma clara\n",
        "def formatar_custo_frete(custo_medio_frete):\n",
        "    resultado = \"O custo médio de frete para cada loja é o seguinte:\\n\"\n",
        "    for loja, custo in custo_medio_frete.items():\n",
        "        resultado += f\"{loja}: R$ {custo:.2f}\\n\"\n",
        "    return resultado\n",
        "\n",
        "# Exibindo a saída formatada\n",
        "print(formatar_custo_frete(custo_medio_frete))\n"
      ],
      "metadata": {
        "id": "S2JeaCykZNy9",
        "colab": {
          "base_uri": "https://localhost:8080/"
        },
        "outputId": "b6f37e07-e0ed-4760-bcb4-274124a3d1fc"
      },
      "execution_count": 21,
      "outputs": [
        {
          "output_type": "stream",
          "name": "stdout",
          "text": [
            "O custo médio de frete para cada loja é o seguinte:\n",
            "Loja 1: R$ 34.69\n",
            "Loja 2: R$ 33.62\n",
            "Loja 3: R$ 33.07\n",
            "Loja 4: R$ 31.28\n",
            "\n"
          ]
        }
      ]
    },
    {
      "cell_type": "code",
      "source": [],
      "metadata": {
        "id": "0tSdCie9ZQlt"
      },
      "execution_count": null,
      "outputs": []
    },
    {
      "cell_type": "markdown",
      "source": [
        "# Relatório Final: Análise das Lojas da Alura Store\n",
        "\n",
        "## Introdução\n",
        "O objetivo desta análise foi identificar qual loja da rede **Alura Store** o Senhor João deve vender, com base em dados de **faturamento**, **categorias de produtos mais e menos vendidos**, **avaliações dos clientes**, **produtos mais e menos vendidos** e **custo de frete**. Utilizando ferramentas de análise de dados e gráficos modernos, realizamos uma comparação detalhada entre as 4 lojas para determinar qual delas tem o melhor desempenho e a maior probabilidade de sucesso a longo prazo.\n",
        "\n",
        "## Desenvolvimento\n",
        "\n",
        "### 1. Faturamento Total das Lojas\n",
        "O **faturamento total** de cada loja foi calculado somando as vendas de todos os produtos de cada uma. Os valores encontrados são os seguintes:\n",
        "\n",
        "- **Loja 1**: R$ 1.534.509,12  \n",
        "\n",
        "- **Loja 2**: R$ 1.488.459,06\n",
        "\n",
        "- **Loja 3**: R$ 1.464.025,03\n",
        "  \n",
        "- **Loja 4**: R$ 1.384.497,58\n",
        "\n",
        "\n",
        "A **Loja 1** apresenta o **maior faturamento**, seguida pela **Loja 2**. Já a **Loja 4** apresenta o **menor faturamento**, o que pode indicar que ela possui desafios de vendas ou uma base de clientes menor.\n",
        "\n",
        "### 2. Categorias de Produtos Mais e Menos Vendidas\n",
        "A análise das **categorias de produtos** revelou que as mais vendidas em todas as lojas são as categorias de **eletrônicos** e **móveis**, enquanto as **menos vendidas** tendem a ser **instrumentos musicais** e **livros**. Além disso, as lojas apresentam uma variação nas preferências de seus clientes, mas em geral as categorias populares são consistentes entre todas as lojas.\n",
        "\n",
        "### 3. Média das Avaliações dos Clientes\n",
        "As **médias das avaliações dos clientes** para cada loja são as seguintes:\n",
        "\n",
        "- **Loja 1**: 3,98\n",
        "- **Loja 2**: 4,04\n",
        "- **Loja 3**: 4,05\n",
        "- **Loja 4**: 4,00\n",
        "\n",
        "A **Loja 3** apresenta a **melhor média de avaliação** (4,05), seguida pela **Loja 2** (4,04), enquanto a **Loja 1** apresenta a **menor média de avaliação** (3,98). Este fator é importante, pois uma maior satisfação do cliente pode indicar melhor fidelidade e potencial para vendas futuras.\n",
        "\n",
        "### 4. Produtos Mais e Menos Vendidos\n",
        "Os **produtos mais vendidos** variam entre as lojas, com destaque para itens como **bicicletas**, **celulares** e **produtos eletrônicos**. Já os **produtos menos vendidos** incluem itens como **televisores 4K**, **móveis**, e **livros**.\n",
        "\n",
        "A **Loja 3** tem um bom desempenho nas vendas de produtos mais vendidos, com destaque para a **Bicicleta**. A **Loja 1**, embora tenha uma boa quantidade de produtos vendidos, apresenta também produtos menos vendidos, como **Mesa de Jantar**, que podem impactar o desempenho geral.\n",
        "\n",
        "### 5. Frete Médio\n",
        "O **frete médio** de cada loja é um fator importante para analisar a eficiência logística. O **frete médio** varia entre as lojas, mas é importante observar que, apesar de algumas lojas terem um custo de frete mais alto, isso não necessariamente impacta diretamente nas vendas, pois a conveniência do frete pode ser um diferencial importante para os consumidores.\n",
        "\n",
        "## Conclusão\n",
        "Com base nas análises de **faturamento**, **avaliações dos clientes**, **categorias mais e menos vendidas**, **produtos mais e menos vendidos** e **frete médio**, a **Loja 3** se destaca como a **melhor loja para ser mantida** dentro da rede **Alura Store**. Ela apresenta:\n",
        "\n",
        "- **Faturamento significativo**, próximo ao de outras lojas, mas com **melhor desempenho nas avaliações dos clientes**.\n",
        "- **Produtos bem vendidos**, como a **Bicicleta**, o que indica uma boa aceitação do público e uma linha de produtos que atrai consumidores.\n",
        "- As **médias de avaliações mais altas** entre as lojas, o que sugere que os clientes estão mais satisfeitos com os produtos e o atendimento, gerando **maior fidelidade** e **potencial de vendas futuras**.\n",
        "\n",
        "Por outro lado, a **Loja 4** apresenta o **menor faturamento** e tem uma **média de avaliação relativamente mais baixa**. Esses fatores indicam que ela tem desafios significativos em termos de vendas e satisfação do cliente, tornando-a a opção **menos favorável para o Senhor João vender**.\n",
        "\n",
        "## Recomendação\n",
        "O Senhor João deve considerar **vender a Loja 4**, que apresenta os **piores resultados** em termos de faturamento e satisfação do cliente, e focar em melhorar a performance das outras lojas, com especial atenção para a **Loja 3**, que se destaca em praticamente todos os aspectos analisados.\n",
        "\n",
        "\n"
      ],
      "metadata": {
        "id": "82fu81AP_AMd"
      }
    },
    {
      "cell_type": "code",
      "source": [],
      "metadata": {
        "id": "FPYJfcOsXByd"
      },
      "execution_count": null,
      "outputs": []
    }
  ]
}